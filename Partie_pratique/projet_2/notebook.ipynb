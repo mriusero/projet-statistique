{
 "cells": [
  {
   "cell_type": "code",
   "execution_count": 1,
   "metadata": {},
   "outputs": [],
   "source": [
    "import numpy as np\n",
    "import pandas as pd\n",
    "from sas7bdat import SAS7BDAT"
   ]
  },
  {
   "cell_type": "code",
   "execution_count": 2,
   "metadata": {},
   "outputs": [
    {
     "name": "stderr",
     "output_type": "stream",
     "text": [
      "\u001b[33m[individus_ct2013.sas7bdat] column count mismatch\u001b[0m\n"
     ]
    },
    {
     "name": "stdout",
     "output_type": "stream",
     "text": [
      "<class 'pandas.core.frame.DataFrame'>\n",
      "RangeIndex: 33673 entries, 0 to 33672\n",
      "Columns: 541 entries, C1C to revmenscc_drap\n",
      "dtypes: float64(76), object(465)\n",
      "memory usage: 139.0+ MB\n"
     ]
    }
   ],
   "source": [
    "file_path = 'individus_ct2013.sas7bdat'\n",
    "with SAS7BDAT(file_path) as reader:\n",
    "    df = reader.to_data_frame()\n",
    "df.info()"
   ]
  },
  {
   "cell_type": "markdown",
   "metadata": {},
   "source": [
    "# Créer une variable binaire pour indiquer si la femme est le principal apporteur de ressources"
   ]
  },
  {
   "cell_type": "code",
   "execution_count": 3,
   "metadata": {},
   "outputs": [
    {
     "name": "stdout",
     "output_type": "stream",
     "text": [
      "<class 'pandas.core.frame.DataFrame'>\n",
      "Index: 24024 entries, 2 to 33672\n",
      "Columns: 541 entries, C1C to revmenscc_drap\n",
      "dtypes: float64(76), object(465)\n",
      "memory usage: 99.3+ MB\n"
     ]
    }
   ],
   "source": [
    "df = df.query('COUPLE == \"1\"')\n",
    "df.info()"
   ]
  },
  {
   "cell_type": "code",
   "execution_count": 4,
   "metadata": {},
   "outputs": [
    {
     "name": "stdout",
     "output_type": "stream",
     "text": [
      "Nombre de lignes où 'femme_principal_apporteur' est égal à 5080\n"
     ]
    }
   ],
   "source": [
    "\n",
    "# Créer la nouvelle colonne 'femme_principal_apporteur' avec des valeurs 1 ou 0\n",
    "df['femme_principal_apporteur'] = df.apply(lambda row: 1 if (row['PRACT'] == '1' and row['SEXE'] == '2') else 0, axis=1)\n",
    "\n",
    "# Compter le nombre de lignes où 'femme_principal_apporteur' est égal à 1\n",
    "nombre_de_femmes_principal_apporteur = df['femme_principal_apporteur'].sum()\n",
    "\n",
    "print(\"Nombre de lignes où 'femme_principal_apporteur' est égal à\", nombre_de_femmes_principal_apporteur)\n"
   ]
  },
  {
   "cell_type": "code",
   "execution_count": 5,
   "metadata": {},
   "outputs": [
    {
     "name": "stdout",
     "output_type": "stream",
     "text": [
      "<class 'pandas.core.frame.DataFrame'>\n",
      "Index: 24024 entries, 2 to 33672\n",
      "Columns: 542 entries, C1C to femme_principal_apporteur\n",
      "dtypes: float64(76), int64(1), object(465)\n",
      "memory usage: 99.5+ MB\n"
     ]
    }
   ],
   "source": [
    "df.info()"
   ]
  }
 ],
 "metadata": {
  "kernelspec": {
   "display_name": ".venv",
   "language": "python",
   "name": "python3"
  },
  "language_info": {
   "codemirror_mode": {
    "name": "ipython",
    "version": 3
   },
   "file_extension": ".py",
   "mimetype": "text/x-python",
   "name": "python",
   "nbconvert_exporter": "python",
   "pygments_lexer": "ipython3",
   "version": "3.12.2"
  }
 },
 "nbformat": 4,
 "nbformat_minor": 2
}
